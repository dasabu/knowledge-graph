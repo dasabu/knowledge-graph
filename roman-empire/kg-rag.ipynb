{
 "cells": [
  {
   "cell_type": "markdown",
   "id": "cefe09b8",
   "metadata": {},
   "source": [
    "# Knowledge Graph RAG: Roman Empire Wikipedia\n",
    "\n",
    "## Introduction\n",
    "\n",
    "This project combines Knowledge Graphs with Retrieval-Augmented Generation (RAG) to create a more powerful and contextually aware question-answering system about the Roman Empire. \n",
    "\n",
    "### What is Knowledge Graph RAG?\n",
    "\n",
    "Knowledge Graph RAG is an advanced approach that enhances traditional RAG systems by incorporating structured knowledge in the form of a graph. While standard RAG systems retrieve relevant documents based on vector similarity, Knowledge Graph RAG adds the ability to:\n",
    "\n",
    "1. **Capture relationships between entities** - Understanding connections between emperors, battles, territories, and historical events\n",
    "2. **Perform multi-hop reasoning** - Following paths through the knowledge graph to answer complex questions\n",
    "3. **Provide more contextual information** - Leveraging both unstructured text and structured relationships\n",
    "\n",
    "### Project Components\n",
    "\n",
    "This notebook demonstrates:\n",
    "- Loading and processing Roman Empire historical data\n",
    "- Building a Neo4j knowledge graph with key entities and relationships\n",
    "- Creating vector embeddings for efficient retrieval\n",
    "- Implementing a **hybrid retrieval system** that combines:\n",
    "  - Vector similarity search\n",
    "  - Graph traversal queries\n",
    "- Using LLMs to generate accurate, contextual responses based on retrieved information\n",
    "\n",
    "### Benefits Over Traditional RAG\n",
    "\n",
    "- **Reduced hallucinations** - The structured knowledge provides factual grounding\n",
    "- **Better handling of complex queries** - Can answer questions requiring understanding of relationships\n",
    "- **Improved explainability** - The graph structure makes reasoning paths more transparent\n",
    "- **Enhanced context awareness** - Combines the strengths of both knowledge graphs and vector retrieval\n",
    "\n",
    "Let's explore how this approach can provide richer insights into the history of the Roman Empire!\n",
    "\n",
    "<img src='./images/overview.png'>"
   ]
  },
  {
   "cell_type": "code",
   "execution_count": null,
   "id": "26ea2781",
   "metadata": {},
   "outputs": [],
   "source": [
    "import os\n",
    "from dotenv import load_dotenv\n",
    "from typing import List, Tuple\n",
    "from pydantic import BaseModel, Field\n",
    "\n",
    "from langchain_openai import ChatOpenAI, OpenAIEmbeddings\n",
    "\n",
    "from langchain_community.graphs import Neo4jGraph\n",
    "from langchain_community.vectorstores import Neo4jVector\n",
    "from langchain_community.document_loaders import WikipediaLoader\n",
    "\n",
    "from langchain_experimental.graph_transformers import LLMGraphTransformer\n",
    "\n",
    "from langchain.text_splitter import TokenTextSplitter\n",
    "\n",
    "from langchain_core.prompts import ChatPromptTemplate\n",
    "from langchain_core.prompts.prompt import PromptTemplate\n",
    "from langchain_core.messages import HumanMessage, AIMessage\n",
    "from langchain_core.output_parsers import StrOutputParser\n",
    "\n",
    "from langchain_core.runnables import (\n",
    "    RunnableLambda,\n",
    "    RunnableBranch,\n",
    "    RunnableParallel,\n",
    "    RunnablePassthrough\n",
    ")\n",
    "\n",
    "from langchain_neo4j.vectorstores.neo4j_vector import remove_lucene_chars"
   ]
  },
  {
   "cell_type": "code",
   "execution_count": 3,
   "id": "6ad444d8",
   "metadata": {},
   "outputs": [],
   "source": [
    "# Load env variables\n",
    "load_dotenv()\n",
    "\n",
    "NEO4J_URI=os.getenv('NEO4J_URI')\n",
    "NEO4J_USERNAME=os.getenv('NEO4J_USERNAME')\n",
    "NEO4J_PASSWORD=os.getenv('NEO4J_PASSWORD')\n",
    "AURA_INSTANCEID=os.getenv('AURA_INSTANCEID')\n",
    "AURA_INSTANCENAME=os.getenv('AURA_INSTANCENAME')\n",
    "\n",
    "OPENAI_API_KEY=os.getenv('OPENAI_API_KEY')\n",
    "OPENAI_ENDPOINT=os.getenv('OPENAI_ENDPOINT')"
   ]
  },
  {
   "cell_type": "code",
   "execution_count": 4,
   "id": "11291942",
   "metadata": {},
   "outputs": [],
   "source": [
    "llm = ChatOpenAI(\n",
    "    api_key=OPENAI_API_KEY,\n",
    "    model='gpt-4o-mini',\n",
    "    temperature=0\n",
    ")"
   ]
  },
  {
   "cell_type": "code",
   "execution_count": 5,
   "id": "eb2946fe",
   "metadata": {},
   "outputs": [
    {
     "name": "stderr",
     "output_type": "stream",
     "text": [
      "/var/folders/fl/gms0qrfn1vb9675l1rjr6x2r0000gn/T/ipykernel_13990/2944472830.py:1: LangChainDeprecationWarning: The class `Neo4jGraph` was deprecated in LangChain 0.3.8 and will be removed in 1.0. An updated version of the class exists in the :class:`~langchain-neo4j package and should be used instead. To use it run `pip install -U :class:`~langchain-neo4j` and import as `from :class:`~langchain_neo4j import Neo4jGraph``.\n",
      "  kg = Neo4jGraph(\n"
     ]
    }
   ],
   "source": [
    "kg = Neo4jGraph(\n",
    "    url=NEO4J_URI,\n",
    "    username=NEO4J_USERNAME,\n",
    "    password=NEO4J_PASSWORD,\n",
    ")"
   ]
  },
  {
   "cell_type": "markdown",
   "id": "86c8aa3e",
   "metadata": {},
   "source": [
    "## Steps\n",
    "\n",
    "<img src=\"./images/steps.png\" />"
   ]
  },
  {
   "cell_type": "code",
   "execution_count": null,
   "id": "0ea60321",
   "metadata": {},
   "outputs": [],
   "source": [
    "# Read Wikipedia page for Roman Empire\n",
    "raw_documents = WikipediaLoader(query='The Roman Empire').load()\n",
    "\n",
    "print(raw_documents)"
   ]
  },
  {
   "cell_type": "code",
   "execution_count": null,
   "id": "89824919",
   "metadata": {},
   "outputs": [],
   "source": [
    "# Define text splitter with chunking strategy\n",
    "text_splitter = TokenTextSplitter(\n",
    "    chunk_size=512,\n",
    "    chunk_overlap=24,\n",
    ")"
   ]
  },
  {
   "cell_type": "code",
   "execution_count": null,
   "id": "bf75aba3",
   "metadata": {},
   "outputs": [],
   "source": [
    "# Split raw document into chunks\n",
    "documents = text_splitter.split_documents(raw_documents)\n",
    "\n",
    "print(documents)"
   ]
  },
  {
   "cell_type": "code",
   "execution_count": null,
   "id": "970f09c3",
   "metadata": {},
   "outputs": [],
   "source": [
    "# Graph based LLM\n",
    "llm_transformer = LLMGraphTransformer(llm=llm)"
   ]
  },
  {
   "cell_type": "code",
   "execution_count": null,
   "id": "a7e3f7c4",
   "metadata": {},
   "outputs": [],
   "source": [
    "# Convert documents to graph documents\n",
    "graph_documents = llm_transformer.convert_to_graph_documents(documents)\n",
    "\n",
    "print(graph_documents)"
   ]
  },
  {
   "cell_type": "code",
   "execution_count": null,
   "id": "38a43726",
   "metadata": {},
   "outputs": [
    {
     "name": "stdout",
     "output_type": "stream",
     "text": [
      "None\n"
     ]
    }
   ],
   "source": [
    "# Store to Neo4j\n",
    "result = kg.add_graph_documents(\n",
    "    graph_documents=graph_documents,\n",
    "    # Link each node to its original document, for tracing back to the source\n",
    "    include_source=True,\n",
    "    # Important: assign an additional entity object label for each node it creates\n",
    "    # enhance the indexing and querying performance\n",
    "    baseEntityLabel=True \n",
    ")"
   ]
  },
  {
   "cell_type": "code",
   "execution_count": null,
   "id": "f729f24a",
   "metadata": {},
   "outputs": [],
   "source": [
    "# Hybrid Retrival for RAG: using Neo4jVector\n",
    "# which allows to configure both keyword and vector search indexes for hybrid search\n",
    "\n",
    "# Create vector index\n",
    "vector_index = Neo4jVector.from_existing_graph(\n",
    "    embedding=OpenAIEmbeddings(),\n",
    "    node_label='Document',\n",
    "    embedding_node_property='embedding',\n",
    "    search_type='hybrid', # 'vector' or 'hybrid'\n",
    "    text_node_properties=['text']   \n",
    ")"
   ]
  },
  {
   "cell_type": "code",
   "execution_count": null,
   "id": "9ade6e3d",
   "metadata": {},
   "outputs": [
    {
     "data": {
      "text/plain": [
       "[]"
      ]
     },
     "execution_count": 40,
     "metadata": {},
     "output_type": "execute_result"
    }
   ],
   "source": [
    "# Create graph fulltext index\n",
    "kg.query('CREATE FULLTEXT INDEX entity IF NOT EXISTS FOR (e:__Entity__) ON EACH [e.id]')"
   ]
  },
  {
   "cell_type": "markdown",
   "id": "c75eb3df",
   "metadata": {},
   "source": [
    "## Graph Retrieval - Flow:\n",
    "\n",
    "<img src=\"./images/flow.png\" />"
   ]
  },
  {
   "cell_type": "code",
   "execution_count": 41,
   "id": "e7012436",
   "metadata": {},
   "outputs": [],
   "source": [
    "# Extract entities from text\n",
    "# when pass the text come in, it's going to look through and decipher all the entities\n",
    "\n",
    "class Entities(BaseModel):\n",
    "    '''Identifying information about entities'''\n",
    "    names: List[str] = Field(\n",
    "        ...,\n",
    "        description='All the person, organization or business entities tha appear in the text'\n",
    "    )"
   ]
  },
  {
   "cell_type": "code",
   "execution_count": 42,
   "id": "9cec398b",
   "metadata": {},
   "outputs": [],
   "source": [
    "# Prompt to put all together with the LLM to pass through the text and be able to extract entities\n",
    "prompt = ChatPromptTemplate.from_messages(\n",
    "    [\n",
    "        (\"system\", \"You are an assistant that can extract entities from text.\"),\n",
    "        (\"human\", \"Use the given format to extract information from the following text: {question}\")\n",
    "    ]\n",
    ")"
   ]
  },
  {
   "cell_type": "code",
   "execution_count": 43,
   "id": "175f54f5",
   "metadata": {},
   "outputs": [],
   "source": [
    "# Define chain to extract entities from text\n",
    "entity_chain = prompt | llm.with_structured_output(Entities)"
   ]
  },
  {
   "cell_type": "code",
   "execution_count": 44,
   "id": "a8737647",
   "metadata": {},
   "outputs": [
    {
     "name": "stdout",
     "output_type": "stream",
     "text": [
      "names=['Anh', 'Van']\n"
     ]
    }
   ],
   "source": [
    "# Test\n",
    "res = entity_chain.invoke({'question': 'My name is Anh and my sister is Van'})\n",
    "print(res)"
   ]
  },
  {
   "cell_type": "code",
   "execution_count": 59,
   "id": "800af254",
   "metadata": {},
   "outputs": [],
   "source": [
    "def generate_full_text_query(input: str) -> str:\n",
    "    '''\n",
    "    Generate a full-text search query for a given input string.\n",
    "\n",
    "    This function will construct a query string suitable for a full-text search.\n",
    "    It processes the input string by splitting it into words and appending \n",
    "    a similarity threshold (~2 changed characters) to each word, then combines \n",
    "    them using the AND operator.\n",
    "\n",
    "    Useful for mapping entities from user questions to database values, and allows for some mispellings.\n",
    "    '''\n",
    "    full_text_query = ''\n",
    "    words = [el for el in remove_lucene_chars(input).split() if el]\n",
    "    for word in words[:-1]:\n",
    "        full_text_query += f' {word}~2 AND'\n",
    "    full_text_query += f' {words[-1]}~2'\n",
    "    return full_text_query.strip()"
   ]
  },
  {
   "cell_type": "code",
   "execution_count": 60,
   "id": "e1a30334",
   "metadata": {},
   "outputs": [],
   "source": [
    "# Fulltext index query\n",
    "def structured_retriever(question: str) -> str:\n",
    "    '''Collect the neighborhood of entities mentioned in the question.'''\n",
    "    result = ''\n",
    "    entities = entity_chain.invoke({'question': question}).names\n",
    "    \n",
    "    for entity in entities:\n",
    "        print(f'Getting Entity: {entity}')\n",
    "        # Collect neighborhood of entities mentioned in the question\n",
    "        response = kg.query(\n",
    "            \"\"\"CALL db.index.fulltext.queryNodes('entity', $query, {limit:2})\n",
    "            YIELD node,score\n",
    "            CALL (node) {\n",
    "              WITH node\n",
    "              MATCH (node)-[r:!MENTIONS]->(neighbor)\n",
    "              RETURN node.id + ' - ' + type(r) + ' -> ' + neighbor.id AS output\n",
    "              UNION ALL\n",
    "              WITH node\n",
    "              MATCH (node)<-[r:!MENTIONS]-(neighbor)\n",
    "              RETURN neighbor.id + ' - ' + type(r) + ' -> ' +  node.id AS output\n",
    "            }\n",
    "            RETURN output LIMIT 50\n",
    "            \"\"\",\n",
    "            {\"query\": generate_full_text_query(entity)},\n",
    "        )\n",
    "        result += \"\\n\".join([el[\"output\"] for el in response])\n",
    "    return result\n"
   ]
  },
  {
   "cell_type": "code",
   "execution_count": 61,
   "id": "1bd3105d",
   "metadata": {},
   "outputs": [
    {
     "name": "stdout",
     "output_type": "stream",
     "text": [
      "Getting Entity: Commodus\n",
      "Commodus - MARKED_DECLINE -> Roman Empire\n",
      "Commodus - BEGINNING_OF -> Crisis Of The Third Century\n",
      "Commodus - RULED_OVER -> Ancient City-State Of Rome\n",
      "Roman Empire - RULED_UNDER -> Commodus\n",
      "Cassius Dio - COMMENTED_ON -> Commodus\n",
      "Edward Gibbon - HISTORICAL_VIEW -> Commodus\n"
     ]
    }
   ],
   "source": [
    "# Test \n",
    "print(structured_retriever('Who is Commodus?'))"
   ]
  },
  {
   "cell_type": "code",
   "execution_count": null,
   "id": "06bc11a6",
   "metadata": {},
   "outputs": [],
   "source": [
    "# Combine graph and unstructured retriever to create the final context\n",
    "\n",
    "# Final retrieval step\n",
    "def retriever(question: str):\n",
    "    print(f'Search query: {question}')\n",
    "    structured_data = structured_retriever(question)\n",
    "    unstructured_data = [\n",
    "        el.page_content for el in vector_index.similarity_search(question)\n",
    "    ]\n",
    "    final_data = f'''Structured data:\n",
    "{structured_data}\n",
    "Unstructured data:\n",
    "{'#Document '.join(f'{el}\\n' for el in unstructured_data)}\n",
    "    '''\n",
    "    print(f'\\nFinal Data: {final_data}')\n",
    "    return final_data"
   ]
  },
  {
   "cell_type": "code",
   "execution_count": 70,
   "id": "46f02d8c",
   "metadata": {},
   "outputs": [],
   "source": [
    "# Define the RAG chain\n",
    "\n",
    "# Condense a chat history and follow-up question into a standalone question\n",
    "_template = '''Given the following conversation and a follow up question, rephrase the follow up question to be a standalone question,\n",
    "in its original language.\n",
    "Chat History:\n",
    "{chat_history}\n",
    "Follow Up Input: {question}\n",
    "Standalone question:'''\n",
    "\n",
    "CONDENSE_QUESTION_PROMPT = PromptTemplate.from_template(_template)"
   ]
  },
  {
   "cell_type": "code",
   "execution_count": 71,
   "id": "a8eacfaf",
   "metadata": {},
   "outputs": [],
   "source": [
    "def _format_chat_history(chat_history: List[Tuple[str, str]]) -> List:\n",
    "    buffer = []\n",
    "    for human, ai in chat_history:\n",
    "        buffer.append(HumanMessage(content=human))\n",
    "        buffer.append(AIMessage(content=ai))\n",
    "    return buffer\n"
   ]
  },
  {
   "cell_type": "code",
   "execution_count": 72,
   "id": "a4d23aef",
   "metadata": {},
   "outputs": [],
   "source": [
    "_search_query = RunnableBranch(\n",
    "    # If input includes chat_history, we condense it with the follow-up question\n",
    "    (\n",
    "        RunnableLambda(lambda x: bool(x.get(\"chat_history\"))).with_config(\n",
    "            run_name=\"HasChatHistoryCheck\"\n",
    "        ),  # Condense follow-up question and chat into a standalone_question\n",
    "        RunnablePassthrough.assign(\n",
    "            chat_history=lambda x: _format_chat_history(x[\"chat_history\"])\n",
    "        )\n",
    "        | CONDENSE_QUESTION_PROMPT\n",
    "        | ChatOpenAI(temperature=0)\n",
    "        | StrOutputParser(),\n",
    "    ),\n",
    "    # Else, we have no chat history, so just pass through the question\n",
    "    RunnableLambda(lambda x: x[\"question\"]),\n",
    ")"
   ]
  },
  {
   "cell_type": "code",
   "execution_count": 73,
   "id": "9e17aefd",
   "metadata": {},
   "outputs": [],
   "source": [
    "template = '''Answer the question based only on the following context:\n",
    "{context}\n",
    "\n",
    "Question: {question}\n",
    "Use natural language and be concise.\n",
    "Answer:'''\n",
    "\n",
    "final_prompt = PromptTemplate.from_template(template)"
   ]
  },
  {
   "cell_type": "code",
   "execution_count": 74,
   "id": "ba4a40ee",
   "metadata": {},
   "outputs": [],
   "source": [
    "# Final chain\n",
    "chain = (\n",
    "    RunnableParallel(\n",
    "        {\n",
    "            \"context\": _search_query | retriever,\n",
    "            \"question\": RunnablePassthrough(),\n",
    "        }\n",
    "    )\n",
    "    | final_prompt | llm | StrOutputParser()\n",
    ")"
   ]
  },
  {
   "cell_type": "code",
   "execution_count": 83,
   "id": "c667cffd",
   "metadata": {},
   "outputs": [
    {
     "name": "stdout",
     "output_type": "stream",
     "text": [
      "Search query: Who was the first emperor?\n",
      "Getting Entity: emperor\n"
     ]
    },
    {
     "name": "stderr",
     "output_type": "stream",
     "text": [
      "Received notification from DBMS server: {severity: WARNING} {code: Neo.ClientNotification.Statement.FeatureDeprecationWarning} {category: DEPRECATION} {title: This feature is deprecated and will be removed in future versions.} {description: CALL subquery without a variable scope clause is now deprecated. Use CALL () { ... }} {position: line: 1, column: 1, offset: 0} for query: \"CALL { CALL db.index.vector.queryNodes($index, $k, $embedding) YIELD node, score WITH collect({node:node, score:score}) AS nodes, max(score) AS max UNWIND nodes AS n RETURN n.node AS node, (n.score / max) AS score UNION CALL db.index.fulltext.queryNodes($keyword_index, $query, {limit: $k}) YIELD node, score WITH collect({node:node, score:score}) AS nodes, max(score) AS max UNWIND nodes AS n RETURN n.node AS node, (n.score / max) AS score } WITH node, max(score) AS score ORDER BY score DESC LIMIT $k RETURN reduce(str='', k IN ['text'] | str + '\\\\n' + k + ': ' + coalesce(node[k], '')) AS text, node {.*, `embedding`: Null, id: Null, `text`: Null} AS metadata, score\"\n"
     ]
    },
    {
     "name": "stdout",
     "output_type": "stream",
     "text": [
      "\n",
      "Final Data: Structured data:\n",
      "Roman Emperor - RULER_OF -> Roman Empire\n",
      "Roman Emperor - RECOGNITION_BY -> Senate\n",
      "Roman Emperor - CONTROLLED_BY -> Roman Army\n",
      "Roman Emperor - LEADER_OF -> Christian Church\n",
      "Octavian - GRANTED_TITLE -> Roman Emperor\n",
      "Diocletian - REFORMED -> Roman Emperor\n",
      "Constantine The Great - FIRST_CHRISTIAN_EMPEROR -> Roman Emperor\n",
      "Papacy - REGARDED_AS -> Medieval German Emperors\n",
      "Unstructured data:\n",
      "\n",
      "text: The Roman emperor was the ruler and monarchical head of state of the Roman Empire, starting with the granting of the title augustus to Octavian in 27 BC. The term emperor is a modern convention, and did not exist as such during the Empire. When a given Roman is described as becoming emperor in English, it generally reflects his accession as augustus, and later as basileus. Another title used was imperator, originally a military honorific, and caesar, originally a cognomen. Early emperors also used the title princeps (\"first one\") alongside other Republican titles, notably consul and pontifex maximus.\n",
      "The legitimacy of an emperor's rule depended on his control of the Roman army and recognition by the Senate; an emperor would normally be proclaimed by his troops, or by the Senate, or both. The first emperors reigned alone; later emperors would sometimes rule with co-emperors to secure the succession or to divide the administration of the empire between them. The office of emperor was thought to be distinct from that of a rex (\"king\"). Augustus, the first emperor, resolutely refused recognition as a monarch. For the first three hundred years of Roman emperors, efforts were made to portray the emperors as leaders of the Republic, fearing any association with the kings who ruled Rome prior to the Republic.\n",
      "From Diocletian, whose reformed tetrarchy divided the position into one emperor in the West and one in the East, emperors ruled in an openly monarchic style. Although succession was generally hereditary, it was only hereditary if there was a suitable candidate acceptable to the army and the bureaucracy, so the principle of automatic inheritance was not adopted, which often led to several claimants to the throne. Despite this, elements of the republican institutional framework (Senate, consuls, and magistrates) were preserved even after the end of the Western Empire.\n",
      "Constantine the Great, the first Christian emperor, moved the capital from Rome to Constantinople, formerly known as Byzantium, in 330 AD. Roman emperors had always held high religious offices; under Constantine there arose the specifically Christian idea that the emperor was God's chosen ruler on earth, a special protector and leader of the Christian Church, a position later termed Caesaropapism. In practice, an emperor's authority on Church matters was frequently subject to challenge. The Western Roman Empire collapsed in the late 5th century after multiple invasions by Germanic barbarian tribes, with no recognised claimant to Emperor#Document \n",
      "text: The foundation of Constantinople in 330 AD marks the conventional start of the Eastern Roman Empire, which fell to the Ottoman Empire in 1453 AD. Only the emperors who were recognized as legitimate rulers and exercised sovereign authority are included, to the exclusion of junior co-emperors who never attained the status of sole or senior ruler, as well as of the various usurpers or rebels who claimed the imperial title.\n",
      "The following list starts with Constantine the Great, the first Christian emperor, who rebuilt the city of Byzantium as an imperial capital, Constantinople, and who was regarded by the later emperors as the model ruler. Modern historians distinguish this later phase of the Roman Empire as Byzantine due to the imperial seat moving from Rome to Byzantium, the Empire's integration of Christianity, and the predominance of Greek instead of Latin.\n",
      "The Byzantine Empire was the direct legal continuation of the eastern half of the Roman Empire following the division of the Roman Empire in 395. Emperors listed below up to Theodosius I in 395 were sole or joint rulers of the entire Roman Empire. The Western Roman Empire continued until 476. Byzantine emperors considered themselves to be Roman emperors in direct succession from Augustus; the term \"Byzantine\" became convention in Western historiography in the 19th century. The use of the title \"Roman Emperor\" by those ruling from Constantinople was not contested until after the papal coronation of the Frankish Charlemagne as Holy Roman emperor (25 December 800).\n",
      "The title of all Emperors preceding Heraclius was officially \"Augustus\", although other titles such as Dominus were also used. Their names were preceded by Imperator Caesar and followed by Augustus. Following Heraclius, the title commonly became the Greek Basileus (Gr. Βασιλεύς), which had formerly meant sovereign, though Augustus continued to be used in a reduced capacity. Following the establishment of the rival Holy Roman Empire in Western Europe, the title \"Autokrator\" (Gr. Αὐτοκράτωρ) was increasingly used. In later centuries, the Emperor could be referred to by Western Christians as the \"Emperor of the Greeks\". Towards the end of the Empire, the standard imperial formula of the Byzantine ruler was \"[Emperor's name] in Christ, Emperor and Autocrat of the Romans\" (cf. Ῥωμαῖοι and Rûm). \n",
      "Dynasties were a#Document \n",
      "text:  collapsed in the late 5th century after multiple invasions by Germanic barbarian tribes, with no recognised claimant to Emperor of the West remaining after the death of Julius Nepos in 480. Instead, the Eastern emperor Zeno proclaimed himself as the sole emperor of a theoretically undivided Roman Empire (although in practice he had no authority in the West). The subsequent Eastern emperors ruling from Constantinople styled themselves as \"Basileus of the Romans\" (Ancient Greek: βασιλεύς Ῥωμαίων, Basileus Romaíon) but are often referred to in modern scholarship as Byzantine emperors.\n",
      "The papacy and Germanic kingdoms of the West acknowledged the Eastern emperors until the accession of Empress Irene in 797. After this, the papacy created a rival lineage of Roman emperors in western Europe, the Holy Roman Emperors, which ruled the Holy Roman Empire for most of the period between 800 and 1806. These emperors were never recognized in Constantinople and their coronations resulted in the medieval problem of two emperors. The last Eastern emperor was Constantine XI Palaiologos, who died during the Fall of Constantinople to the Ottoman Empire in 1453. After conquering the city, Ottoman sultans adopted the title \"Caesar of the Romans\" (kayser-i Rûm). A Byzantine group of claimant emperors existed in the Empire of Trebizond until its conquest by the Ottomans in 1461, although they had used a modified title since 1282.\n",
      "\n",
      "\n",
      "== Background and beginning ==\n",
      "\n",
      "Modern historians regard Augustus as the first emperor, whereas Julius Caesar is considered the last dictator of the Roman R#Document \n",
      "text: , notably Edward Gibbon, to take Commodus' reign as the beginning of the decline of the Roman Empire.\n",
      "In 212, during the reign of Caracalla, Roman citizenship was granted to all freeborn inhabitants of the Empire. Despite this gesture of universality, the Severan dynasty was tumultuous—an emperor's reign was ended routinely by his murder or execution—and following its collapse, the Empire was engulfed by the Crisis of the Third Century, a 50-year period of invasions, civil strife, economic disorder, and epidemic disease. In defining historical epochs, this crisis is typically viewed as marking the start of the Later Roman Empire, and also the transition from Classical to Late antiquity. In the reign of Philip the Arab (r. 244–249), Rome celebrated its thousandth anniversary with the Saecular Games. Diocletian (r. 284–305) restored stability to the empire, modifying the role of princeps and adopting the style of dominus, \"master\" or \"lord\", thus beginning the period known as the Dominate. Diocletian's reign also brought the Empire's most concerted effort against Christianity, the \"Great Persecution\". The state of absolute monarchy that began with Diocletian endured until the fall of the Eastern Roman Empire in 1453.\n",
      "In 286, the empire was split into two halves, each with its own emperor and court. The empire was further divided into four regions in 293, beginning the Tetrarchy. By this time, Rome itself was reduced to a symbolic status, as emperors ruled from different cities. Diocletian abdicated voluntarily along with his co-augustus, but the Tetrarchy almost immediately fell apart. The civil wars ended in 324 with the victory of Constantine I, who became the first emperor to convert to Christianity and who founded Constantinople as a new capital for the whole empire. The reign of Jul\n",
      "    \n"
     ]
    }
   ],
   "source": [
    "# Test all it out\n",
    "answer = (chain.invoke({'question': 'Who was the first emperor?'}))"
   ]
  },
  {
   "cell_type": "code",
   "execution_count": 84,
   "id": "af4df4e8",
   "metadata": {},
   "outputs": [
    {
     "name": "stdout",
     "output_type": "stream",
     "text": [
      "The first emperor was Augustus, also known as Octavian.\n"
     ]
    }
   ],
   "source": [
    "print(answer)"
   ]
  },
  {
   "cell_type": "code",
   "execution_count": 87,
   "id": "78aa2734",
   "metadata": {},
   "outputs": [
    {
     "name": "stdout",
     "output_type": "stream",
     "text": [
      "Search query: How did Augustus become the first emperor?\n",
      "Getting Entity: Augustus\n"
     ]
    },
    {
     "name": "stderr",
     "output_type": "stream",
     "text": [
      "Received notification from DBMS server: {severity: WARNING} {code: Neo.ClientNotification.Statement.FeatureDeprecationWarning} {category: DEPRECATION} {title: This feature is deprecated and will be removed in future versions.} {description: CALL subquery without a variable scope clause is now deprecated. Use CALL () { ... }} {position: line: 1, column: 1, offset: 0} for query: \"CALL { CALL db.index.vector.queryNodes($index, $k, $embedding) YIELD node, score WITH collect({node:node, score:score}) AS nodes, max(score) AS max UNWIND nodes AS n RETURN n.node AS node, (n.score / max) AS score UNION CALL db.index.fulltext.queryNodes($keyword_index, $query, {limit: $k}) YIELD node, score WITH collect({node:node, score:score}) AS nodes, max(score) AS max UNWIND nodes AS n RETURN n.node AS node, (n.score / max) AS score } WITH node, max(score) AS score ORDER BY score DESC LIMIT $k RETURN reduce(str='', k IN ['text'] | str + '\\\\n' + k + ': ' + coalesce(node[k], '')) AS text, node {.*, `embedding`: Null, id: Null, `text`: Null} AS metadata, score\"\n"
     ]
    },
    {
     "name": "stdout",
     "output_type": "stream",
     "text": [
      "\n",
      "Final Data: Structured data:\n",
      "Augustus - TITLE_OF -> Eastern Roman Empire\n",
      "Augustus - FIRST_EMPEROR -> Roman Empire\n",
      "Octavian - ASSUMED_TITLE -> Augustus\n",
      "Egypt - INCORPORATED_BY -> Augustus\n",
      "Roman Empire - DEPOSED -> Romulus Augustus\n",
      "Odoacer - DEPOSED -> Romulus Augustus\n",
      "Odoacer - FORCED_ABDICATION_OF -> Romulus Augustus\n",
      "Unstructured data:\n",
      "\n",
      "text: The Roman emperor was the ruler and monarchical head of state of the Roman Empire, starting with the granting of the title augustus to Octavian in 27 BC. The term emperor is a modern convention, and did not exist as such during the Empire. When a given Roman is described as becoming emperor in English, it generally reflects his accession as augustus, and later as basileus. Another title used was imperator, originally a military honorific, and caesar, originally a cognomen. Early emperors also used the title princeps (\"first one\") alongside other Republican titles, notably consul and pontifex maximus.\n",
      "The legitimacy of an emperor's rule depended on his control of the Roman army and recognition by the Senate; an emperor would normally be proclaimed by his troops, or by the Senate, or both. The first emperors reigned alone; later emperors would sometimes rule with co-emperors to secure the succession or to divide the administration of the empire between them. The office of emperor was thought to be distinct from that of a rex (\"king\"). Augustus, the first emperor, resolutely refused recognition as a monarch. For the first three hundred years of Roman emperors, efforts were made to portray the emperors as leaders of the Republic, fearing any association with the kings who ruled Rome prior to the Republic.\n",
      "From Diocletian, whose reformed tetrarchy divided the position into one emperor in the West and one in the East, emperors ruled in an openly monarchic style. Although succession was generally hereditary, it was only hereditary if there was a suitable candidate acceptable to the army and the bureaucracy, so the principle of automatic inheritance was not adopted, which often led to several claimants to the throne. Despite this, elements of the republican institutional framework (Senate, consuls, and magistrates) were preserved even after the end of the Western Empire.\n",
      "Constantine the Great, the first Christian emperor, moved the capital from Rome to Constantinople, formerly known as Byzantium, in 330 AD. Roman emperors had always held high religious offices; under Constantine there arose the specifically Christian idea that the emperor was God's chosen ruler on earth, a special protector and leader of the Christian Church, a position later termed Caesaropapism. In practice, an emperor's authority on Church matters was frequently subject to challenge. The Western Roman Empire collapsed in the late 5th century after multiple invasions by Germanic barbarian tribes, with no recognised claimant to Emperor#Document \n",
      "text:  collapsed in the late 5th century after multiple invasions by Germanic barbarian tribes, with no recognised claimant to Emperor of the West remaining after the death of Julius Nepos in 480. Instead, the Eastern emperor Zeno proclaimed himself as the sole emperor of a theoretically undivided Roman Empire (although in practice he had no authority in the West). The subsequent Eastern emperors ruling from Constantinople styled themselves as \"Basileus of the Romans\" (Ancient Greek: βασιλεύς Ῥωμαίων, Basileus Romaíon) but are often referred to in modern scholarship as Byzantine emperors.\n",
      "The papacy and Germanic kingdoms of the West acknowledged the Eastern emperors until the accession of Empress Irene in 797. After this, the papacy created a rival lineage of Roman emperors in western Europe, the Holy Roman Emperors, which ruled the Holy Roman Empire for most of the period between 800 and 1806. These emperors were never recognized in Constantinople and their coronations resulted in the medieval problem of two emperors. The last Eastern emperor was Constantine XI Palaiologos, who died during the Fall of Constantinople to the Ottoman Empire in 1453. After conquering the city, Ottoman sultans adopted the title \"Caesar of the Romans\" (kayser-i Rûm). A Byzantine group of claimant emperors existed in the Empire of Trebizond until its conquest by the Ottomans in 1461, although they had used a modified title since 1282.\n",
      "\n",
      "\n",
      "== Background and beginning ==\n",
      "\n",
      "Modern historians regard Augustus as the first emperor, whereas Julius Caesar is considered the last dictator of the Roman R#Document \n",
      "text: The history of the Roman Empire covers the history of ancient Rome from the traditional end of the Roman Republic in 27 BC until the abdication of Romulus Augustulus in AD 476 in the West, and the Fall of Constantinople in the East in 1453. Ancient Rome became a territorial empire while still a republic, but was then ruled by emperors beginning with Octavian Augustus, the final victor of the republican civil wars.\n",
      "Rome had begun expanding shortly after the founding of the Republic in the 6th century BC, though it did not expand outside the Italian Peninsula until the 3rd century BC, during the Punic Wars, after which the Republic expanded across the Mediterranean. Civil war engulfed Rome in the mid-1st century BC, first between Julius Caesar and Pompey, and finally between Octavian (Caesar's grand-nephew) and Mark Antony. Antony was defeated at the Battle of Actium in 31 BC, leading to the annexation of Egypt. In 27 BC, the Senate gave Octavian the titles of Augustus (\"venerated\") and Princeps (\"foremost\"), thus beginning the Principate, the first epoch of Roman imperial history. Augustus' name was inherited by his successors, as well as his title of Imperator (\"commander\"), from which the term \"emperor\" is derived. Early emperors avoided any association with the ancient kings of Rome, instead presenting themselves as leaders of the Republic.\n",
      "The success of Augustus in establishing principles of dynastic succession was limited by his outliving a number of talented potential heirs; the Julio-Claudian dynasty lasted for four more emperors—Tiberius, Caligula, Claudius, and Nero—before it yielded in AD 69 to the strife-torn Year of the Four Emperors, from which Vespasian emerged as victor. Vespasian became the founder of the brief Flavian dynasty, to be followed by the Nerva–Antonine dynasty which produced the \"Five Good Emperors\": Nerva, Trajan, Hadrian, Antoninus Pius and the philosophically inclined Marcus Aurelius. In the view of the Greek historian Cassius Dio, a contemporary observer, the accession of the emperor Commodus in AD 180 marked the descent \"from a kingdom of gold to one of rust and iron\"—a famous comment which has led some historians, notably Edward Gibbon, to take Commodus' reign as the beginning of the decline of the Roman Empire.\n",
      "#Document \n",
      "text: The Roman Empire ruled the Mediterranean and much of Europe, Western Asia and North Africa. The Romans conquered most of this during the Republic, and it was ruled by emperors following Octavian's  assumption of effective sole rule in 27 BC. The western empire collapsed in 476 AD, but the eastern empire lasted until the fall of Constantinople in 1453.\n",
      "By 100 BC, the city of Rome had expanded its rule from the Italian peninsula to most of the Mediterranean and beyond. However, it was severely destabilised by civil wars and political conflicts, which culminated in the victory of Octavian over Mark Antony and Cleopatra at the Battle of Actium in 31 BC, and the subsequent conquest of the Ptolemaic Kingdom in Egypt. In 27 BC, the Roman Senate granted Octavian overarching military power (imperium) and the new title of Augustus, marking his accession as the first Roman emperor. The vast Roman territories were organized into senatorial provinces, governed by proconsuls who were appointed by lot annually, and imperial provinces, which belonged to the emperor but were governed by legates.\n",
      "The first two centuries of the Empire saw a period of unprecedented stability and prosperity known as the Pax Romana (lit. 'Roman Peace'). Rome reached its greatest territorial extent under Trajan (r. 98–117 AD), but a period of increasing trouble and decline began under Commodus (r. 180–192). In the 3rd century, the Empire underwent a 49-year crisis that threatened its existence due to civil war, plagues and barbarian invasions. The Gallic and Palmyrene empires broke away from the state and a series of short-lived emperors led the Empire, which was later reunified under Aurelian (r. 270–275). The civil wars ended with the victory of Diocletian (r. 284–305), who set up two different imperial courts in the Greek East and Latin West. Constantine the Great (r. 306–337), the first Christian emperor, moved the imperial seat from Rome to Byzantium in 330, and renamed it Constantinople. The Migration Period, involving large invasions by Germanic peoples and by the Huns of Attila, led to the decline of the Western Roman Empire. With the fall of Ravenna to the Germanic Herulians and the deposition of Romulus Augustus in 476 by Odoacer, the Western Empire finally collapsed. The Byzantine\n",
      "    \n"
     ]
    }
   ],
   "source": [
    "# History\n",
    "answer_with_history = chain.invoke(\n",
    "    {\n",
    "        'question': 'How did he become the first emperor?',\n",
    "        'chat_history': [\n",
    "            ('Who was the first emperor?', 'The first emperor was Augustus, also known as Octavian.')\n",
    "        ]\n",
    "    }\n",
    ")\n"
   ]
  },
  {
   "cell_type": "code",
   "execution_count": 88,
   "id": "40bdae77",
   "metadata": {},
   "outputs": [
    {
     "name": "stdout",
     "output_type": "stream",
     "text": [
      "Augustus became the first emperor by being granted the title \"Augustus\" by the Roman Senate in 27 BC, following his victory over Mark Antony and Cleopatra at the Battle of Actium, which established his effective sole rule over the Roman Empire.\n"
     ]
    }
   ],
   "source": [
    "print(answer_with_history)"
   ]
  }
 ],
 "metadata": {
  "kernelspec": {
   "display_name": ".venv",
   "language": "python",
   "name": "python3"
  },
  "language_info": {
   "codemirror_mode": {
    "name": "ipython",
    "version": 3
   },
   "file_extension": ".py",
   "mimetype": "text/x-python",
   "name": "python",
   "nbconvert_exporter": "python",
   "pygments_lexer": "ipython3",
   "version": "3.10.17"
  }
 },
 "nbformat": 4,
 "nbformat_minor": 5
}
